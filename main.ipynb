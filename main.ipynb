{
 "cells": [
  {
   "cell_type": "code",
   "execution_count": 1,
   "metadata": {},
   "outputs": [
    {
     "data": {
      "text/html": [
       "<div>\n",
       "<style scoped>\n",
       "    .dataframe tbody tr th:only-of-type {\n",
       "        vertical-align: middle;\n",
       "    }\n",
       "\n",
       "    .dataframe tbody tr th {\n",
       "        vertical-align: top;\n",
       "    }\n",
       "\n",
       "    .dataframe thead th {\n",
       "        text-align: right;\n",
       "    }\n",
       "</style>\n",
       "<table border=\"1\" class=\"dataframe\">\n",
       "  <thead>\n",
       "    <tr style=\"text-align: right;\">\n",
       "      <th></th>\n",
       "      <th>qid</th>\n",
       "      <th>question_text</th>\n",
       "      <th>target</th>\n",
       "    </tr>\n",
       "  </thead>\n",
       "  <tbody>\n",
       "    <tr>\n",
       "      <th>0</th>\n",
       "      <td>42b9446db515fcd253a7</td>\n",
       "      <td>What is the qualification for an animator or a...</td>\n",
       "      <td>0</td>\n",
       "    </tr>\n",
       "    <tr>\n",
       "      <th>1</th>\n",
       "      <td>bdad704204f8535e313a</td>\n",
       "      <td>Do different flavoured protein shakes have dif...</td>\n",
       "      <td>0</td>\n",
       "    </tr>\n",
       "    <tr>\n",
       "      <th>2</th>\n",
       "      <td>d13a0c498bf5a9cb2bc3</td>\n",
       "      <td>How does someone keep their children when they...</td>\n",
       "      <td>0</td>\n",
       "    </tr>\n",
       "    <tr>\n",
       "      <th>3</th>\n",
       "      <td>237828efb8348c39f14b</td>\n",
       "      <td>How much time required to learn Bollywood danc...</td>\n",
       "      <td>0</td>\n",
       "    </tr>\n",
       "    <tr>\n",
       "      <th>4</th>\n",
       "      <td>3c02e808603faa6ecc20</td>\n",
       "      <td>What skills can I have to fit in formulae one?</td>\n",
       "      <td>0</td>\n",
       "    </tr>\n",
       "    <tr>\n",
       "      <th>...</th>\n",
       "      <td>...</td>\n",
       "      <td>...</td>\n",
       "      <td>...</td>\n",
       "    </tr>\n",
       "    <tr>\n",
       "      <th>3995</th>\n",
       "      <td>8e636f1fb48158100adc</td>\n",
       "      <td>In ancient China, there was nothing other than...</td>\n",
       "      <td>1</td>\n",
       "    </tr>\n",
       "    <tr>\n",
       "      <th>3996</th>\n",
       "      <td>bffed8f6e8fec61187b5</td>\n",
       "      <td>I have a 3 inch penis, can I fuck a lot's girls?</td>\n",
       "      <td>1</td>\n",
       "    </tr>\n",
       "    <tr>\n",
       "      <th>3997</th>\n",
       "      <td>324670fdf6a9ba5cc019</td>\n",
       "      <td>Are all blacks from Haiti?</td>\n",
       "      <td>1</td>\n",
       "    </tr>\n",
       "    <tr>\n",
       "      <th>3998</th>\n",
       "      <td>e74c62301253bbc32563</td>\n",
       "      <td>Why are questions demonizing Israel okay but a...</td>\n",
       "      <td>1</td>\n",
       "    </tr>\n",
       "    <tr>\n",
       "      <th>3999</th>\n",
       "      <td>19e2f3c714a93f9003c0</td>\n",
       "      <td>Who do you consider to be the most seducing Je...</td>\n",
       "      <td>1</td>\n",
       "    </tr>\n",
       "  </tbody>\n",
       "</table>\n",
       "<p>4000 rows × 3 columns</p>\n",
       "</div>"
      ],
      "text/plain": [
       "                       qid                                      question_text  \\\n",
       "0     42b9446db515fcd253a7  What is the qualification for an animator or a...   \n",
       "1     bdad704204f8535e313a  Do different flavoured protein shakes have dif...   \n",
       "2     d13a0c498bf5a9cb2bc3  How does someone keep their children when they...   \n",
       "3     237828efb8348c39f14b  How much time required to learn Bollywood danc...   \n",
       "4     3c02e808603faa6ecc20     What skills can I have to fit in formulae one?   \n",
       "...                    ...                                                ...   \n",
       "3995  8e636f1fb48158100adc  In ancient China, there was nothing other than...   \n",
       "3996  bffed8f6e8fec61187b5   I have a 3 inch penis, can I fuck a lot's girls?   \n",
       "3997  324670fdf6a9ba5cc019                         Are all blacks from Haiti?   \n",
       "3998  e74c62301253bbc32563  Why are questions demonizing Israel okay but a...   \n",
       "3999  19e2f3c714a93f9003c0  Who do you consider to be the most seducing Je...   \n",
       "\n",
       "      target  \n",
       "0          0  \n",
       "1          0  \n",
       "2          0  \n",
       "3          0  \n",
       "4          0  \n",
       "...      ...  \n",
       "3995       1  \n",
       "3996       1  \n",
       "3997       1  \n",
       "3998       1  \n",
       "3999       1  \n",
       "\n",
       "[4000 rows x 3 columns]"
      ]
     },
     "execution_count": 1,
     "metadata": {},
     "output_type": "execute_result"
    }
   ],
   "source": [
    "import pandas as pd\n",
    "\n",
    "fix_file = \"dataset/fix_data.csv\"\n",
    "fix_df = pd.read_csv(fix_file)\n",
    "fix_df"
   ]
  },
  {
   "cell_type": "code",
   "execution_count": 2,
   "metadata": {},
   "outputs": [
    {
     "data": {
      "text/plain": [
       "[Text(0, 0, 'sincere'), Text(1, 0, 'insincere')]"
      ]
     },
     "execution_count": 2,
     "metadata": {},
     "output_type": "execute_result"
    },
    {
     "data": {
      "image/png": "[encoded data removed]",
      "text/plain": [
       "<Figure size 640x480 with 1 Axes>"
      ]
     },
     "metadata": {},
     "output_type": "display_data"
    }
   ],
   "source": [
    "import matplotlib.pyplot as plt\n",
    "\n",
    "raw_plot = fix_df.target.value_counts().plot(kind='bar')\n",
    "raw_plot.set_xticklabels([\"sincere\", \"insincere\"])"
   ]
  },
  {
   "cell_type": "code",
   "execution_count": 3,
   "metadata": {},
   "outputs": [],
   "source": [
    "from preprocessing import preprocessing_text_with_stemming\n",
    "import numpy as np\n",
    "\n",
    "fix_df['preprocessed_text'] = fix_df['question_text'].apply(preprocessing_text_with_stemming)"
   ]
  },
  {
   "cell_type": "code",
   "execution_count": 4,
   "metadata": {},
   "outputs": [],
   "source": [
    "X = fix_df['preprocessed_text'].apply(lambda x: ' '.join(x))\n",
    "y = fix_df['target']"
   ]
  },
  {
   "cell_type": "code",
   "execution_count": 5,
   "metadata": {},
   "outputs": [
    {
     "name": "stdout",
     "output_type": "stream",
     "text": [
      "(3600,)\n",
      "(400,)\n"
     ]
    }
   ],
   "source": [
    "from sklearn.model_selection import train_test_split\n",
    "\n",
    "X_train, X_test, y_train, y_test = train_test_split(X, y, test_size=0.1, random_state=42)\n",
    "print(X_train.shape)\n",
    "print(X_test.shape)"
   ]
  },
  {
   "cell_type": "code",
   "execution_count": 6,
   "metadata": {},
   "outputs": [
    {
     "name": "stdout",
     "output_type": "stream",
     "text": [
      "(3600, 6212)\n",
      "(400, 6212)\n"
     ]
    }
   ],
   "source": [
    "from sklearn.feature_extraction.text import TfidfVectorizer\n",
    "tfidf = TfidfVectorizer()\n",
    "X_train_tfidf = tfidf.fit_transform(X_train)\n",
    "X_test_tfidf = tfidf.transform(X_test)\n",
    "\n",
    "print(X_train_tfidf.shape)\n",
    "print(X_test_tfidf.shape)"
   ]
  },
  {
   "cell_type": "code",
   "execution_count": 7,
   "metadata": {},
   "outputs": [],
   "source": [
    "# import pickle\n",
    "# f = open('tfidf_vectorizer.pickle', 'wb')\n",
    "# pickle.dump(tfidf, f)\n",
    "# f.close()"
   ]
  },
  {
   "cell_type": "code",
   "execution_count": 8,
   "metadata": {},
   "outputs": [],
   "source": [
    "from MultinomialNB import MultinomialNaiveBayes\n",
    "mnb = MultinomialNaiveBayes()\n",
    "mnb.fit(X_train_tfidf.toarray(), y_train)\n",
    "y_pred = mnb.predict(X_test_tfidf.toarray())"
   ]
  },
  {
   "cell_type": "code",
   "execution_count": 9,
   "metadata": {},
   "outputs": [],
   "source": [
    "# import pickle\n",
    "# w = open('mnb_classifier.pickle', 'wb')\n",
    "# pickle.dump(mnb, w)\n",
    "# w.close()"
   ]
  },
  {
   "cell_type": "code",
   "execution_count": 10,
   "metadata": {},
   "outputs": [
    {
     "name": "stdout",
     "output_type": "stream",
     "text": [
      "Confusion Matrix:\n",
      "[[140  66]\n",
      " [  7 187]]\n",
      "\n",
      "Classification Report:\n",
      "              precision    recall  f1-score   support\n",
      "\n",
      "     Sincere       0.95      0.68      0.79       206\n",
      "   Insincere       0.74      0.96      0.84       194\n",
      "\n",
      "    accuracy                           0.82       400\n",
      "   macro avg       0.85      0.82      0.81       400\n",
      "weighted avg       0.85      0.82      0.81       400\n",
      "\n",
      "\n",
      "Accuracy: 0.82\n"
     ]
    }
   ],
   "source": [
    "from sklearn.metrics import classification_report, confusion_matrix, accuracy_score\n",
    "print(\"Confusion Matrix:\")\n",
    "print(confusion_matrix(y_test, y_pred))\n",
    "\n",
    "print(\"\\nClassification Report:\")\n",
    "print(classification_report(y_test, y_pred, target_names=['Sincere', 'Insincere']))\n",
    "\n",
    "accuracy = accuracy_score(y_test, y_pred)\n",
    "print(f\"\\nAccuracy: {accuracy:.2f}\")"
   ]
  },
  {
   "cell_type": "code",
   "execution_count": 18,
   "metadata": {},
   "outputs": [
    {
     "name": "stdout",
     "output_type": "stream",
     "text": [
      "  (0, 4977)\t0.44172759787459703\n",
      "  (0, 4366)\t0.44172759787459703\n",
      "  (0, 2105)\t0.4638657040066153\n",
      "  (0, 1743)\t0.32176070080691666\n",
      "  (0, 1519)\t0.5394924639089649\n"
     ]
    }
   ],
   "source": [
    "from tkinter import *\n",
    "from preprocessing import preprocessing_text_with_stemming\n",
    "\n",
    "w = Tk()\n",
    "def center_window(window, width, height):\n",
    "    screen_width = window.winfo_screenwidth()\n",
    "    screen_height = window.winfo_screenheight()\n",
    "\n",
    "    x = (screen_width - width) // 2\n",
    "    y = (screen_height - height) // 2\n",
    "\n",
    "    window.geometry(f'{width}x{height}+{x}+{y}')\n",
    "\n",
    "window_width = 400\n",
    "window_height = 400\n",
    "\n",
    "center_window(w, window_width, window_height)\n",
    "\n",
    "w.geometry('400x200')\n",
    "w.title(\"Insincere Question Detection\")\n",
    "\n",
    "Label(w, text=\"Insincere Question Detection\", font=(\"TkDefaultFont\", 14, \"bold\")).pack()\n",
    "\n",
    "def predict():\n",
    "    text = entry.get()\n",
    "    preprocessed_text = preprocessing_text_with_stemming(text)\n",
    "    transformed_input = tfidf.transform([' '.join(preprocessed_text)])\n",
    "    predicted_class = mnb.predict(transformed_input.toarray())[0]\n",
    "    label = \"Sincere\" if predicted_class == 0 else \"Insincere\"\n",
    "    result_label.config(text=f\"{label}\", font=(\"TkDefaultFont\", 12, \"bold\"))\n",
    "    print(transformed_input)\n",
    "\n",
    "entry = Entry(w, width = 50)\n",
    "entry.pack()\n",
    "\n",
    "Button(w, text=\"Predict\", command=predict).pack()\n",
    "Label(w, text=\"Predicted Class\").pack()\n",
    "result_label = Label(w, text=\"0\")\n",
    "result_label.pack()\n",
    "w.mainloop()"
   ]
  }
 ],
 "metadata": {
  "kernelspec": {
   "display_name": "Python 3",
   "language": "python",
   "name": "python3"
  },
  "language_info": {
   "codemirror_mode": {
    "name": "ipython",
    "version": 3
   },
   "file_extension": ".py",
   "mimetype": "text/x-python",
   "name": "python",
   "nbconvert_exporter": "python",
   "pygments_lexer": "ipython3",
   "version": "3.10.7"
  }
 },
 "nbformat": 4,
 "nbformat_minor": 2
}
